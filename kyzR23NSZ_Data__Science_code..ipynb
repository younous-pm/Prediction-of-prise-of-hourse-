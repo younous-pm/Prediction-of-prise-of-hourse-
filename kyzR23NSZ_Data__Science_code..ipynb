{
 "cells": [
  {
   "cell_type": "markdown",
   "metadata": {},
   "source": [
    "$\\boxed{\\textbf{QUESTION 1:}}$\n",
    "\n",
    "  $\\textbf{C) verification du average clustering of the network A}$"
   ]
  },
  {
   "cell_type": "code",
   "execution_count": 18,
   "metadata": {},
   "outputs": [],
   "source": [
    "import networkx as nx\n",
    "G = nx.Graph()"
   ]
  },
  {
   "cell_type": "code",
   "execution_count": 19,
   "metadata": {},
   "outputs": [],
   "source": [
    "import matplotlib.pyplot as plt\n",
    "%matplotlib inline"
   ]
  },
  {
   "cell_type": "code",
   "execution_count": 42,
   "metadata": {},
   "outputs": [],
   "source": [
    "A = nx.Graph() # here we are starting by creat an empti graph"
   ]
  },
  {
   "cell_type": "code",
   "execution_count": 43,
   "metadata": {},
   "outputs": [],
   "source": [
    "A.add_node(1) # here we are adding the differents nodes of our graph\n",
    "A.add_node(2)\n",
    "A.add_node(3)\n",
    "A.add_node(4)\n",
    "A.add_node(5)\n",
    "A.add_node(6)"
   ]
  },
  {
   "cell_type": "code",
   "execution_count": 44,
   "metadata": {},
   "outputs": [],
   "source": [
    "A.add_edge(1, 3)  # here we are adding the differents edges to each of the notes\n",
    "A.add_edge(3, 1)\n",
    "A.add_edge(1, 2)\n",
    "A.add_edge(2, 1)\n",
    "A.add_edge(1, 4)\n",
    "A.add_edge(4, 1)\n",
    "A.add_edge(2, 4)\n",
    "A.add_edge(4, 2)\n",
    "A.add_edge(6, 4)\n",
    "A.add_edge(4, 6)\n",
    "A.add_edge(2, 5)\n",
    "A.add_edge(5, 2)"
   ]
  },
  {
   "cell_type": "code",
   "execution_count": 146,
   "metadata": {},
   "outputs": [
    {
     "data": {
      "image/png": "[encoded data removed]",
      "text/plain": [
       "<Figure size 432x288 with 1 Axes>"
      ]
     },
     "metadata": {},
     "output_type": "display_data"
    }
   ],
   "source": [
    "nx.draw_networkx(A , node_color = 'magenta')  # here we are drawing our graph"
   ]
  },
  {
   "cell_type": "code",
   "execution_count": 47,
   "metadata": {},
   "outputs": [
    {
     "data": {
      "text/plain": [
       "{1: 0.3333333333333333,\n",
       " 2: 0.3333333333333333,\n",
       " 3: 0,\n",
       " 4: 0.3333333333333333,\n",
       " 5: 0,\n",
       " 6: 0}"
      ]
     },
     "execution_count": 47,
     "metadata": {},
     "output_type": "execute_result"
    }
   ],
   "source": [
    "nx.clustering(A)  # here it is the clustering coefficient of each of the note"
   ]
  },
  {
   "cell_type": "code",
   "execution_count": 48,
   "metadata": {},
   "outputs": [
    {
     "data": {
      "text/plain": [
       "0.16666666666666666"
      ]
     },
     "execution_count": 48,
     "metadata": {},
     "output_type": "execute_result"
    }
   ],
   "source": [
    "nx.average_clustering(A)  # here it is the average of clustering coefficient of the graph A"
   ]
  },
  {
   "cell_type": "markdown",
   "metadata": {},
   "source": [
    "$\\textbf{---> here we are creating the graph B}$"
   ]
  },
  {
   "cell_type": "code",
   "execution_count": 138,
   "metadata": {},
   "outputs": [],
   "source": [
    "B = nx.DiGraph() # Now we are creating the graph B"
   ]
  },
  {
   "cell_type": "code",
   "execution_count": 139,
   "metadata": {},
   "outputs": [],
   "source": [
    "B.add_node(1)\n",
    "B.add_node(2)\n",
    "B.add_node(3)\n",
    "B.add_node(4)\n",
    "B.add_node(5)\n",
    "B.add_node(6)\n",
    "B.add_node(7)"
   ]
  },
  {
   "cell_type": "code",
   "execution_count": 140,
   "metadata": {},
   "outputs": [],
   "source": [
    "B.add_edge(3, 1)\n",
    "B.add_edge(2, 1)\n",
    "B.add_edge(3, 2)\n",
    "B.add_edge(7, 1)\n",
    "B.add_edge(3, 5)\n",
    "B.add_edge(6, 5)\n",
    "B.add_edge(7, 6)\n",
    "B.add_edge(1, 7)"
   ]
  },
  {
   "cell_type": "code",
   "execution_count": 143,
   "metadata": {},
   "outputs": [
    {
     "data": {
      "image/png": "[encoded data removed]",
      "text/plain": [
       "<Figure size 432x288 with 1 Axes>"
      ]
     },
     "metadata": {},
     "output_type": "display_data"
    }
   ],
   "source": [
    "nx.draw_networkx(B ,node_color = 'red')"
   ]
  },
  {
   "cell_type": "markdown",
   "metadata": {},
   "source": [
    "$\\textbf{g) Coumputation of the number of cycle of length 4 of graph A}$"
   ]
  },
  {
   "cell_type": "code",
   "execution_count": 100,
   "metadata": {},
   "outputs": [
    {
     "name": "stdout",
     "output_type": "stream",
     "text": [
      "0\n"
     ]
    }
   ],
   "source": [
    "c = nx.find_cycle (A , source = None , orientation = 'ignore')\n",
    "Y = 0  # the initial number of cycle of the graph\n",
    "for i in c :  # this loop is to check the number of cycle for each of the nodes\n",
    "    if len(c) == 4: #vthis loop is to check if the cycle have length 4\n",
    "        Y = Y + 1  # here we check the number of cycle\n",
    "print(Y)"
   ]
  },
  {
   "cell_type": "markdown",
   "metadata": {},
   "source": [
    "$\\textbf{h) The degree distribution of the networks }$\n",
    "\n",
    "$\\textbf{--->For the graph A is:}$"
   ]
  },
  {
   "cell_type": "code",
   "execution_count": 24,
   "metadata": {},
   "outputs": [
    {
     "data": {
      "text/plain": [
       "(array([2., 0., 0., 0., 0., 0., 0., 0., 0., 2.]),\n",
       " array([0. , 0.3, 0.6, 0.9, 1.2, 1.5, 1.8, 2.1, 2.4, 2.7, 3. ]),\n",
       " <a list of 10 Patch objects>)"
      ]
     },
     "execution_count": 24,
     "metadata": {},
     "output_type": "execute_result"
    },
    {
     "data": {
      "image/png": "[encoded data removed]",
      "text/plain": [
       "<Figure size 432x288 with 1 Axes>"
      ]
     },
     "metadata": {
      "needs_background": "light"
     },
     "output_type": "display_data"
    }
   ],
   "source": [
    "T = nx.degree_histogram(A)\n",
    "plt.hist(T)"
   ]
  },
  {
   "cell_type": "markdown",
   "metadata": {},
   "source": [
    "$\\textbf{--->For the graph B is:}$"
   ]
  },
  {
   "cell_type": "code",
   "execution_count": 36,
   "metadata": {
    "scrolled": true
   },
   "outputs": [
    {
     "data": {
      "text/plain": [
       "(array([1., 0., 0., 2., 0., 0., 1., 0., 0., 1.]),\n",
       " array([0. , 0.3, 0.6, 0.9, 1.2, 1.5, 1.8, 2.1, 2.4, 2.7, 3. ]),\n",
       " <a list of 10 Patch objects>)"
      ]
     },
     "execution_count": 36,
     "metadata": {},
     "output_type": "execute_result"
    },
    {
     "data": {
      "image/png": "[encoded data removed]",
      "text/plain": [
       "<Figure size 432x288 with 1 Axes>"
      ]
     },
     "metadata": {
      "needs_background": "light"
     },
     "output_type": "display_data"
    }
   ],
   "source": [
    "H = nx.degree_histogram(B)\n",
    "plt.hist(H)"
   ]
  },
  {
   "cell_type": "markdown",
   "metadata": {},
   "source": [
    "."
   ]
  },
  {
   "cell_type": "markdown",
   "metadata": {},
   "source": [
    "$\\boxed{\\textbf{QUESTION 2)}}$\n",
    "\n",
    "$\\textbf{a) Contruction of the adjacency matrix for the bipartite graph:}$"
   ]
  },
  {
   "cell_type": "code",
   "execution_count": 129,
   "metadata": {},
   "outputs": [
    {
     "data": {
      "image/png": "[encoded data removed]",
      "text/plain": [
       "<Figure size 432x288 with 1 Axes>"
      ]
     },
     "metadata": {},
     "output_type": "display_data"
    }
   ],
   "source": [
    "from networkx.algorithms import bipartite\n",
    "H = nx.Graph()\n",
    "H.add_nodes_from([k for k in range(1 , 8)] , bipartite = 0)  # here we are creating the nodes 1 up to 7 by using the for loop \n",
    "H.add_nodes_from(['X' , 'Y' , 'Z' , 'W'] , bipartite = 1)\n",
    "H.add_edges_from([(1 , 'X') , (2 , 'X') , (2 , 'Y') , (3 , 'X') , (4 , 'Z') , (5 , 'Y') , (5 , 'Z') , (5 , 'W') , (6 , 'W') , (7 , 'W')])\n",
    "nx.draw_networkx(H , node_color = 'red')"
   ]
  },
  {
   "cell_type": "markdown",
   "metadata": {},
   "source": [
    "$\\textbf{--->The adjacency matrix of the bipartate graph is}$"
   ]
  },
  {
   "cell_type": "code",
   "execution_count": 79,
   "metadata": {},
   "outputs": [
    {
     "name": "stdout",
     "output_type": "stream",
     "text": [
      "[[0 0 0 0 0 0 0 1 0 0 0]\n",
      " [0 0 0 0 0 0 0 1 1 0 0]\n",
      " [0 0 0 0 0 0 0 1 0 0 0]\n",
      " [0 0 0 0 0 0 0 0 0 1 0]\n",
      " [0 0 0 0 0 0 0 0 1 1 1]\n",
      " [0 0 0 0 0 0 0 0 0 0 1]\n",
      " [0 0 0 0 0 0 0 0 0 0 1]\n",
      " [1 1 1 0 0 0 0 0 0 0 0]\n",
      " [0 1 0 0 1 0 0 0 0 0 0]\n",
      " [0 0 0 1 1 0 0 0 0 0 0]\n",
      " [0 0 0 0 1 1 1 0 0 0 0]]\n"
     ]
    }
   ],
   "source": [
    "a = nx.adjacency_matrix(H) # we are computing the adjacency matrix of the graph\n",
    "print(a.todense())"
   ]
  },
  {
   "cell_type": "code",
   "execution_count": 130,
   "metadata": {},
   "outputs": [
    {
     "data": {
      "image/png": "[encoded data removed]",
      "text/plain": [
       "<Figure size 432x288 with 1 Axes>"
      ]
     },
     "metadata": {},
     "output_type": "display_data"
    }
   ],
   "source": [
    "T = nx.bipartite.projected_graph(H , [1,2,3,4,5,6,7])  # here are projecting of V1\n",
    "nx.draw_networkx(T , node_color = 'yellow')"
   ]
  },
  {
   "cell_type": "code",
   "execution_count": 88,
   "metadata": {},
   "outputs": [
    {
     "data": {
      "image/png": "[encoded data removed]",
      "text/plain": [
       "<Figure size 432x288 with 1 Axes>"
      ]
     },
     "metadata": {},
     "output_type": "display_data"
    }
   ],
   "source": [
    "K = nx.bipartite.projected_graph(H , ['X' , 'Y' , 'Z' , 'W'])  # here are projecting V2\n",
    "nx.draw_networkx(K)"
   ]
  },
  {
   "cell_type": "markdown",
   "metadata": {},
   "source": [
    "$\\textbf{b) Use NetworkX to construct the adjacency matrix of its two projections, on the red and on the yellow nodes, respectively:}$\n",
    "\n",
    "$\\textbf{---> For the projection V1, the adjacency matrix is:}$"
   ]
  },
  {
   "cell_type": "code",
   "execution_count": 96,
   "metadata": {},
   "outputs": [
    {
     "name": "stdout",
     "output_type": "stream",
     "text": [
      "[[0 1 1 0 0 0 0]\n",
      " [1 0 1 0 1 0 0]\n",
      " [1 1 0 0 0 0 0]\n",
      " [0 0 0 0 1 0 0]\n",
      " [0 1 0 1 0 1 1]\n",
      " [0 0 0 0 1 0 1]\n",
      " [0 0 0 0 1 1 0]]\n"
     ]
    }
   ],
   "source": [
    "A1 = nx.adjacency_matrix(T) # we are computing the adjacency matrix of the projection V1\n",
    "print(A1.todense())"
   ]
  },
  {
   "cell_type": "markdown",
   "metadata": {},
   "source": [
    "$\\textbf{---> For the projection V2, the adjacency matrix is:}$"
   ]
  },
  {
   "cell_type": "code",
   "execution_count": 95,
   "metadata": {},
   "outputs": [
    {
     "name": "stdout",
     "output_type": "stream",
     "text": [
      "[[0 1 0 0]\n",
      " [1 0 1 1]\n",
      " [0 1 0 1]\n",
      " [0 1 1 0]]\n"
     ]
    }
   ],
   "source": [
    "A2 = nx.adjacency_matrix(K)       # we are computing the adjacency matrix of the projection V2\n",
    "print(A2.todense())"
   ]
  },
  {
   "cell_type": "markdown",
   "metadata": {},
   "source": [
    "$\\textbf{c) Calculate the average degree of the red nodes and the average degree of the yellow nodes in the bipartite network}$:\\\n",
    "             $\\textbf{---> For the V1 nodes(the yellow), the average degree is:}$"
   ]
  },
  {
   "cell_type": "code",
   "execution_count": 118,
   "metadata": {},
   "outputs": [
    {
     "name": "stdout",
     "output_type": "stream",
     "text": [
      "2.5\n",
      "[1, 2, 1, 1, 3, 1, 1]\n"
     ]
    }
   ],
   "source": [
    "L = [1 , 2 , 3 , 4 , 5 , 6 , 7 ]         # here we are creating the list of the yellow nodes\n",
    "L1 =[]           # This list is the list of each of the average of each nodes\n",
    "for i in L:\n",
    "    L1.append(H.degree(i))\n",
    "average_degree = sum(L1)/4    # we divise the sum by 4 because the yellow node are connected with the red nodes\n",
    "print(average_degree)         # we print now the average of the yellow's nodes\n",
    "print(L1)                     # we print the degree of each yellow node"
   ]
  },
  {
   "cell_type": "markdown",
   "metadata": {},
   "source": [
    "   $\\textbf{ ---> For the V2 nodes(the red), the average degree is:}$"
   ]
  },
  {
   "cell_type": "code",
   "execution_count": 119,
   "metadata": {},
   "outputs": [
    {
     "name": "stdout",
     "output_type": "stream",
     "text": [
      "1.4285714285714286\n",
      "[3, 2, 2, 3]\n"
     ]
    }
   ],
   "source": [
    "J = ['X' ,'Y' , 'Z' , 'W']    # here we are creating the list of the red nodes\n",
    "L2 =[]       # This list is the list of each of the average of each nodes\n",
    "for i in J:\n",
    "    L2.append(H.degree(i))\n",
    "average_degreeY = sum(L2)/7    # we divise the sum by 4 because the red node are connected with the yellow nodes\n",
    "print(average_degreeY)         # we print now the average of the red's nodes\n",
    "print(L2)         # we print the degree of each red node"
   ]
  },
  {
   "cell_type": "markdown",
   "metadata": {},
   "source": [
    "$\\textbf{d)  Computation of the average degree in each of the two network projections:}$"
   ]
  },
  {
   "cell_type": "markdown",
   "metadata": {},
   "source": [
    " $\\textbf{---> The average of the projection of yellow (V1):}$"
   ]
  },
  {
   "cell_type": "code",
   "execution_count": 134,
   "metadata": {},
   "outputs": [
    {
     "name": "stdout",
     "output_type": "stream",
     "text": [
      "2.2857142857142856\n",
      "[2, 3, 2, 1, 4, 2, 2]\n"
     ]
    }
   ],
   "source": [
    "F = [1 , 2 , 3 , 4 , 5 , 6 , 7 ]        \n",
    "L3 =[]           \n",
    "for i in F:\n",
    "    L3.append(T.degree(i))\n",
    "average_degreec = sum(L3)/7   \n",
    "print(average_degreec)         \n",
    "print(L3)   "
   ]
  },
  {
   "cell_type": "markdown",
   "metadata": {},
   "source": [
    " $\\textbf{---> The average of the projection of red (V2):}$"
   ]
  },
  {
   "cell_type": "code",
   "execution_count": 125,
   "metadata": {},
   "outputs": [
    {
     "name": "stdout",
     "output_type": "stream",
     "text": [
      "2.0\n",
      "[1, 3, 2, 2]\n"
     ]
    }
   ],
   "source": [
    "S = ['X' ,'Y' , 'Z' , 'W']    \n",
    "L4 =[]       \n",
    "for i in S:\n",
    "    L4.append(K.degree(i))\n",
    "average_degreen = sum(L4)/4\n",
    "print(average_degreen)         \n",
    "print(L4) "
   ]
  },
  {
   "cell_type": "code",
   "execution_count": null,
   "metadata": {},
   "outputs": [],
   "source": []
  }
 ],
 "metadata": {
  "kernelspec": {
   "display_name": "Python 3",
   "language": "python",
   "name": "python3"
  },
  "language_info": {
   "codemirror_mode": {
    "name": "ipython",
    "version": 3
   },
   "file_extension": ".py",
   "mimetype": "text/x-python",
   "name": "python",
   "nbconvert_exporter": "python",
   "pygments_lexer": "ipython3",
   "version": "3.7.4"
  }
 },
 "nbformat": 4,
 "nbformat_minor": 2
}
